{
 "cells": [
  {
   "cell_type": "code",
   "execution_count": 2,
   "metadata": {},
   "outputs": [],
   "source": [
    "import numpy as np\n",
    "import matplotlib.pyplot as plt\n",
    "import matplotlib.animation as animation\n",
    "import matplotlib.patches as pat"
   ]
  },
  {
   "cell_type": "code",
   "execution_count": 3,
   "metadata": {
    "lines_to_end_of_cell_marker": 2,
    "lines_to_next_cell": 0
   },
   "outputs": [],
   "source": [
    "# without rendering\n",
    "class Environment_without_rendering():\n",
    "    def __init__(self):\n",
    "        self.obj = []\n",
    "        self.contact = []\n",
    "        self.g_x = 0\n",
    "        self.g_y = - 9.8\n",
    "    \n",
    "    def set_gravity(self, g_x, g_y):\n",
    "        self.g_x = g_x\n",
    "        self.g_y = g_y\n",
    "    \n",
    "    def add_obj(self, new_obj):\n",
    "        self.obj.append(new_obj)\n",
    "        \n",
    "    def add_contact(self, new_contact):\n",
    "        self.contact.append(new_contact)\n",
    "        \n",
    "    def step(self, dt):\n",
    "        # calcurate contact\n",
    "        for contact in self.contact:\n",
    "            contact.step()\n",
    "        # add gravity\n",
    "        for obj in self.obj:\n",
    "            obj.add_force(obj.M*self.g_x, obj.M*self.g_y, 0)\n",
    "        # move\n",
    "        for obj in self.obj:\n",
    "            obj.move(dt)\n",
    "            \n",
    "class Environment(Environment_without_rendering):\n",
    "\n",
    "    def __init__(self, ax, dt=0.01):\n",
    "        super().__init__()\n",
    "        self.images = []\n",
    "        self.ax = ax\n",
    "        self.dt = dt\n",
    "\n",
    "    def step(self, i):\n",
    "        super().step(self.dt)\n",
    "        plt.cla()\n",
    "        self.ax.set_xlim(-2,2)\n",
    "        self.ax.set_ylim(-0.5,2)\n",
    "        for obj in self.obj:\n",
    "            if obj.type is 'box':\n",
    "                self.ax.add_patch(pat.Rectangle(xy=obj.plot(), width=obj.w, height=obj.h, angle=obj.theta/np.pi*180, color=obj.color, alpha=0.5))\n",
    "            if obj.type is 'ball':\n",
    "                self.ax.add_patch(pat.Circle(xy=(obj.x,obj.y), radius=obj.r, color=obj.color, alpha=0.5))\n",
    "        for contact in self.contact:\n",
    "            if contact.isContact is True:\n",
    "                self.ax.scatter(contact.intersection_x, contact.intersection_y, color=contact.color)\n",
    "   \n",
    "    def __del__(self):\n",
    "        ani = animation.ArtistAnimation(self.fig, self.images, interval = 10)\n",
    "        ani.save(\"output.gif\", writer=\"imagemagick\")"
   ]
  },
  {
   "cell_type": "code",
   "execution_count": null,
   "metadata": {},
   "outputs": [],
   "source": []
  }
 ],
 "metadata": {
  "jupytext": {
   "text_representation": {
    "extension": ".py",
    "format_name": "light",
    "format_version": "1.5",
    "jupytext_version": "1.4.2"
   }
  },
  "kernelspec": {
   "display_name": "Python 3",
   "language": "python",
   "name": "python3"
  },
  "language_info": {
   "codemirror_mode": {
    "name": "ipython",
    "version": 3
   },
   "file_extension": ".py",
   "mimetype": "text/x-python",
   "name": "python",
   "nbconvert_exporter": "python",
   "pygments_lexer": "ipython3",
   "version": "3.7.6"
  }
 },
 "nbformat": 4,
 "nbformat_minor": 2
}
