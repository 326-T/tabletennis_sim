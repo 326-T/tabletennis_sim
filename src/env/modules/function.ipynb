{
 "cells": [
  {
   "cell_type": "code",
   "execution_count": 9,
   "metadata": {},
   "outputs": [],
   "source": [
    "import numpy as np\n",
    "import math"
   ]
  },
  {
   "cell_type": "code",
   "execution_count": 2,
   "metadata": {},
   "outputs": [],
   "source": [
    "def distance(x1, y1, x2, y2):\n",
    "    return np.sqrt((x1-x2)**2+(y1-y2)**2)"
   ]
  },
  {
   "cell_type": "code",
   "execution_count": 3,
   "metadata": {},
   "outputs": [],
   "source": [
    "def line_func(x1, y1, x2, y2):\n",
    "    a = y1-y2\n",
    "    b = x1-x2\n",
    "    c = -(y1-y2)*x1+(x1-x2)*y1\n",
    "    def func(x,y):\n",
    "        return a*x+b*y+c\n",
    "    return a, b, c, func"
   ]
  },
  {
   "cell_type": "code",
   "execution_count": 4,
   "metadata": {},
   "outputs": [],
   "source": [
    "def line_intersection(a1, b1, c1, a2, b2, c2):\n",
    "    x = (b2*c1-b1*c2)/(a1*b2-a2*b1)\n",
    "    y = (-a2*c1+a1*c2)/(a1*b2-a2*b1)\n",
    "    return x, y"
   ]
  },
  {
   "cell_type": "code",
   "execution_count": 5,
   "metadata": {},
   "outputs": [],
   "source": [
    "def circle_intersection(x1,y1,r1,x2,y2,r2,d):\n",
    "    k = (r1**2-r2**2+d**2)/(2*d)\n",
    "    x = x1+(x2-x1)*k/d\n",
    "    y = y1+(y2-y1)*k/d\n",
    "    return x, y"
   ]
  },
  {
   "cell_type": "code",
   "execution_count": 6,
   "metadata": {},
   "outputs": [],
   "source": [
    "def polar2xy(r, theta, x=0, y=0):\n",
    "    return r*np.sin(theta)+x, r*np.cos(theta)+y"
   ]
  },
  {
   "cell_type": "code",
   "execution_count": 8,
   "metadata": {},
   "outputs": [],
   "source": [
    "def plot_rectangular(x, y, theta, w, h):\n",
    "    vtx1x = w/2*np.cos(theta) - h/2*np.sin(theta) + x\n",
    "    vtx1y = w/2*np.sin(theta) + h/2*np.cos(theta) + y\n",
    "    vtx2x = - w/2*np.cos(theta) - h/2*np.sin(theta) + x\n",
    "    vtx2y = - w/2*np.sin(theta) + h/2*np.cos(theta) + y\n",
    "    vtx3x = - w/2*np.cos(theta) + h/2*np.sin(theta) + x\n",
    "    vtx3y = - w/2*np.sin(theta) - h/2*np.cos(theta) + y\n",
    "    vtx4x = w/2*np.cos(theta) + h/2*np.sin(theta) + x\n",
    "    vtx4y = w/2*np.sin(theta) - h/2*np.cos(theta) + y\n",
    "    return [[vtx1x,vtx2x,vtx3x,vtx4x], [vtx1y,vtx2y,vtx3y,vtx4y]]"
   ]
  },
  {
   "cell_type": "code",
   "execution_count": 10,
   "metadata": {},
   "outputs": [],
   "source": [
    "def plot_circle(x, y, r, division=12):\n",
    "    x = [x]\n",
    "    y = [y]\n",
    "    for i in range(division):\n",
    "        x.append(x+r*np.cos(2*np.pi*i/division))\n",
    "        y.append(y+r*np.sin(2*np.pi*i/division))\n",
    "    return [x, y]"
   ]
  },
  {
   "cell_type": "code",
   "execution_count": null,
   "metadata": {},
   "outputs": [],
   "source": []
  }
 ],
 "metadata": {
  "jupytext": {
   "text_representation": {
    "extension": ".py",
    "format_name": "light",
    "format_version": "1.5",
    "jupytext_version": "1.4.2"
   }
  },
  "kernelspec": {
   "display_name": "Python 3",
   "language": "python",
   "name": "python3"
  },
  "language_info": {
   "codemirror_mode": {
    "name": "ipython",
    "version": 3
   },
   "file_extension": ".py",
   "mimetype": "text/x-python",
   "name": "python",
   "nbconvert_exporter": "python",
   "pygments_lexer": "ipython3",
   "version": "3.7.6"
  }
 },
 "nbformat": 4,
 "nbformat_minor": 4
}
