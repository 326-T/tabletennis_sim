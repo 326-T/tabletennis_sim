{
 "cells": [
  {
   "cell_type": "code",
   "execution_count": 8,
   "metadata": {},
   "outputs": [],
   "source": [
    "import numpy as np"
   ]
  },
  {
   "cell_type": "code",
   "execution_count": 9,
   "metadata": {},
   "outputs": [],
   "source": [
    "from modules.function import distance\n",
    "from modules.function import line_func\n",
    "from modules.function import polar2xy\n",
    "from modules.function import line_intersection\n",
    "from modules.function import circle_intersection"
   ]
  },
  {
   "cell_type": "code",
   "execution_count": 10,
   "metadata": {
    "lines_to_end_of_cell_marker": 2,
    "lines_to_next_cell": 2
   },
   "outputs": [],
   "source": [
    "class Contact():\n",
    "    def __init__(self, obj1, obj2, color='red'):\n",
    "        self.obj1 = obj1\n",
    "        self.obj2 = obj2\n",
    "        self.isContact = False\n",
    "        self.intersection_x = 0\n",
    "        self.intersection_y = 0\n",
    "        self.color = color\n",
    "        \n",
    "    def set_color(self, color):\n",
    "        self.color = color\n",
    "        \n",
    "    def check_contact(self):\n",
    "        if self.obj1.type is 'ball' and self.obj2.type is 'ball':\n",
    "            d = distance(self.obj1.x,self.obj1.y,self.obj2.x,self.obj2.y)\n",
    "            r1 = self.obj1.r\n",
    "            r2 = self.obj2.r\n",
    "            if r1 + r2 < d:\n",
    "                self.intersection_x, self.intersection_y = circle_intersection(x1=self.obj1.x, y1=self.obj1.y, r1=r1, x2=self.obj2.x, y2=self.obj2.y, r2=r2, d=d)\n",
    "                self.isContact = True\n",
    "                return True\n",
    "            else:\n",
    "                self.isContact = False\n",
    "                return False\n",
    "        \n",
    "        elif self.obj1.type is 'box' and self.obj2.type is 'box':\n",
    "            vtx11x, vtx11y = polar2xy(r=self.obj1.w, theta=self.obj1.theta, x=self.obj1.x, y=self.obj1.y)\n",
    "            vtx12x, vtx12y = polar2xy(r=self.obj1.w, theta=np.pi+self.obj1.theta, x=self.obj1.x, y=self.obj1.y)\n",
    "            vtx21x, vtx21y = polar2xy(r=self.obj2.w, theta=self.obj2.theta, x=self.obj2.x, y=self.obj2.y)\n",
    "            vtx22x, vtx22y = polar2xy(r=self.obj2.w, theta=np.pi+self.obj2.theta, x=self.obj2.x, y=self.obj2.y)\n",
    "            # the centor line of box\n",
    "            a1, b1, c1, line1 = line_func(vtx11x, vtx11y, vtx12x, vtx12y)\n",
    "            a2, b2, c2, line2 = line_func(vtx21x, vtx21y, vtx22x, vtx22y)\n",
    "            if line1(vtx21x, vtx21y) * line1(vtx22x, vtx22y) < 0 and line2(vtx11x, vtx11y) * line2(vtx12x, vtx12y) < 0:\n",
    "                self.intersection_x, self.intersection_y = line_intersection(a1, b1, c1, a2, b2, c2)\n",
    "                self.isContact = True\n",
    "                return True\n",
    "            else:\n",
    "                self.isContact = False\n",
    "                return False\n",
    "            \n",
    "        elif self.obj1.type is 'box' and self.obj2.type is 'ball':\n",
    "            vtx11x, vtx11y = polar2xy(r=self.obj1.w, theta=self.obj1.theta, x=self.obj1.x, y=self.obj1.y)\n",
    "            vtx12x, vtx12y = polar2xy(r=self.obj1.w, theta=np.pi+self.obj1.theta, x=self.obj1.x, y=self.obj1.y)\n",
    "            x2 = self.obj2.x\n",
    "            y2 = self.obj2.y\n",
    "            a1, b1, c1, line1 = line_func(vtx11x, vtx11y, vtx12x, vtx12y)\n",
    "            h = line1(x2, y2)/np.sqrt(a1**2+b1**2)\n",
    "            d1 = distance(vtx11x,vtx11y,x2,y2)\n",
    "            d2 = distance(vtx12x,vtx12y,x2,y2)\n",
    "            if np.min([h,d1,d2]) < self.obj2.r:\n",
    "                if h < np.min(d1,d2):\n",
    "                    self.intersection_x, self.intersection_y = line_intersection(a1, b1, c1, b1, -a1, -b1*x2+a1*y2)\n",
    "                elif d1 < d2:\n",
    "                    self.intersection_x, self.intersection_y = vtx11x, vtx11y\n",
    "                else:\n",
    "                    self.intersection_x, self.intersection_y = vtx12x, vtx12y\n",
    "                self.isContact = True\n",
    "                return True\n",
    "            else:\n",
    "                self.isContact = False\n",
    "                return False\n",
    "            \n",
    "        elif self.obj1.type is 'ball' and self.obj2.type is 'box':\n",
    "            vtx21x, vtx21y = polar2xy(r=self.obj2.w, theta=self.obj2.theta, x=self.obj2.x, y=self.obj2.y)\n",
    "            vtx22x, vtx22y = polar2xy(r=self.obj2.w, theta=np.pi+self.obj2.theta, x=self.obj2.x, y=self.obj2.y)\n",
    "            x1 = self.obj1.x\n",
    "            y1 = self.obj1.y\n",
    "            a2, b2, c2, line2 = line_func(vtx21x, vtx21y, vtx22x, vtx22y)\n",
    "            h = line2(x1, y1)/np.sqrt(a2**2+b2**2)\n",
    "            d1 = distance(vtx21x,vtx21y,x1,y1)\n",
    "            d2 = distance(vtx22x,vtx22y,x1,y1)\n",
    "            if np.min([h,d1,d2]) < self.obj1.r:\n",
    "                if h < np.min(d1,d2):\n",
    "                    self.intersection_x, self.intersection_y = line_intersection(a2, b2, c2, b2, -a2, -b2*x1+a2*y1)\n",
    "                elif d1 < d2:\n",
    "                    self.intersection_x, self.intersection_y = vtx21x, vtx21y\n",
    "                else:\n",
    "                    self.intersection_x, self.intersection_y = vtx22x, vtx22y\n",
    "                self.isContact = True\n",
    "                return True\n",
    "            else:\n",
    "                self.isContact = False\n",
    "                return False\n",
    "            \n",
    "    def step(self):\n",
    "        self.check_contact()"
   ]
  },
  {
   "cell_type": "code",
   "execution_count": 11,
   "metadata": {},
   "outputs": [],
   "source": [
    "class Contact_Penalty(Contact):\n",
    "    def __init__(self, obj1, obj2, k=0, c=10, color='red'):\n",
    "        super().__init__(obj1=obj1, obj2=obj2, color=color)\n",
    "        self.k = k\n",
    "        self.c = c\n",
    "    \n",
    "    def add_force(self, obj):\n",
    "        if obj.type is 'ball':\n",
    "            d = distance(obj.x,obj.y,self.intersection_x,self.intersection_y)\n",
    "            Fx = self.k*(obj.r-d)*(obj.x-self.intersection_x)/d\n",
    "            Fx = self.k*(obj.r-d)*(obj.y-self.intersection_y)/d\n",
    "            obj.add_force(Fx, Fy, 0)\n",
    "    \n",
    "    def step(self):\n",
    "        if self.check_contact():\n",
    "            self.add_force(self.obj1)\n",
    "            self.add_force(self.obj2)\n"
   ]
  },
  {
   "cell_type": "code",
   "execution_count": null,
   "metadata": {
    "lines_to_next_cell": 2
   },
   "outputs": [],
   "source": []
  },
  {
   "cell_type": "code",
   "execution_count": null,
   "metadata": {},
   "outputs": [],
   "source": []
  }
 ],
 "metadata": {
  "jupytext": {
   "text_representation": {
    "extension": ".py",
    "format_name": "light",
    "format_version": "1.5",
    "jupytext_version": "1.4.2"
   }
  },
  "kernelspec": {
   "display_name": "Python 3",
   "language": "python",
   "name": "python3"
  },
  "language_info": {
   "codemirror_mode": {
    "name": "ipython",
    "version": 3
   },
   "file_extension": ".py",
   "mimetype": "text/x-python",
   "name": "python",
   "nbconvert_exporter": "python",
   "pygments_lexer": "ipython3",
   "version": "3.7.6"
  }
 },
 "nbformat": 4,
 "nbformat_minor": 4
}
