{
 "cells": [
  {
   "cell_type": "code",
   "execution_count": 3,
   "metadata": {},
   "outputs": [],
   "source": [
    "import numpy as np"
   ]
  },
  {
   "cell_type": "code",
   "execution_count": 1,
   "metadata": {},
   "outputs": [],
   "source": [
    "class Obj():\n",
    "    def __init__(self, x=0, y=0, theta=0, M=1, I=1, fix=False, color='black'):\n",
    "        # position\n",
    "        self.x = x\n",
    "        self.y = y\n",
    "        self.theta = theta\n",
    "        # fixed object or not\n",
    "        self.fix = fix\n",
    "        # velocity\n",
    "        self.v_x = 0\n",
    "        self.v_y = 0\n",
    "        self.v_theta = 0\n",
    "        # acceleration\n",
    "        self.a_x = 0\n",
    "        self.a_y = 0\n",
    "        self.a_theta = 0\n",
    "        # mass, inertial mass\n",
    "        self.M = M\n",
    "        self.I = 0\n",
    "        # color for plot\n",
    "        self.color=color\n",
    "        self.img = None\n",
    "        \n",
    "    def set_position(self, x, y, theta):\n",
    "        self.x = x\n",
    "        self.y = y\n",
    "        self.theta = theta\n",
    "        \n",
    "    def set_velocity(self, v_x, v_y, v_theta):\n",
    "        self.v_x = v_x\n",
    "        self.v_y = v_y\n",
    "        self.v_theta = v_theta\n",
    "        \n",
    "    def set_acceleration(self, a_x, a_y, a_theta):\n",
    "        self.a_x = a_x\n",
    "        self.a_y = a_y\n",
    "        self.a_theta = a_theta\n",
    "    \n",
    "    def set_mass(self, M, I=None):\n",
    "        self.M = M\n",
    "        if I is not None:\n",
    "            self.I = I\n",
    "        \n",
    "    def set_color(self, color):\n",
    "        self.color = color\n",
    "        \n",
    "    def set_img(self, img):\n",
    "        self.img, = img\n",
    "        \n",
    "    def set_fix(self, fix):\n",
    "        self.fix = fix\n",
    "    \n",
    "    def add_force(self, F_x, F_y, Torque):\n",
    "        self.a_x = self.a_x + F_x / self.M\n",
    "        self.a_y = self.a_y + F_y / self.M\n",
    "        self.a_theta = self.a_theta + Torque / self.I\n",
    "        \n",
    "    def step(self, dt):\n",
    "        if self.fix is False:\n",
    "            # update position\n",
    "            self.x = self.x + self.v_x * dt\n",
    "            self.y = self.y + self.v_y * dt\n",
    "            self.theta = self.theta + self.v_theta * dt\n",
    "            # update velocity\n",
    "            self.v_x = self.v_x + self.a_x * dt\n",
    "            self.v_y = self.v_y + self.a_y * dt\n",
    "            self.v_theta = self.v_theta + self.a_theta * dt\n",
    "            # reset acceleration\n",
    "            self.a_x = 0\n",
    "            self.a_y = 0\n",
    "            self.a_theta = 0"
   ]
  },
  {
   "cell_type": "code",
   "execution_count": 2,
   "metadata": {
    "lines_to_next_cell": 0
   },
   "outputs": [],
   "source": [
    "class Ball(Obj):\n",
    "    def __init__(self, r, x=0, y=0, theta=0, M=1, I=1, fix=False, color='black'):\n",
    "        super().__init__(x=x, y=y, theta=theta, M=M, I=I, fix=fix, color=color)\n",
    "        self.r = r\n",
    "        self.I = 2.0/3.0*self.M*self.r**2\n",
    "        self.type = 'ball'\n",
    "        \n",
    "    def set_mass(self, M, I=None):\n",
    "        super().__init__(M, I)\n",
    "        if I is None:\n",
    "            self.I = 2.0/3.0*M*self.r**2\n",
    "        \n",
    "class Box(Obj):\n",
    "    def __init__(self, w, h=0, x=0, y=0, theta=0, M=1, I=1, fix=False, color='black'):\n",
    "        super().__init__(x=x, y=y, theta=theta, M=M, I=I, fix=fix, color=color)\n",
    "        self.w = w\n",
    "        self.h = h\n",
    "        self.I = 1.0/12.0*M*(self.w**2+self.h**2)\n",
    "        self.type = 'box'\n",
    "        \n",
    "    def set_mass(self, M, I=None):\n",
    "        super().__init__(M, I)\n",
    "        if I is None:\n",
    "            self.I = 1.0/12.0*M*(self.w**2+self.h**2)\n",
    "            \n",
    "    def plot(self):\n",
    "        vtx3x = - self.w/2*np.cos(self.theta) + self.h/2*np.sin(self.theta) + self.x\n",
    "        vtx3y = - self.w/2*np.sin(self.theta) - self.h/2*np.cos(self.theta) + self.y\n",
    "        return (vtx3x, vtx3y)\n",
    "            "
   ]
  },
  {
   "cell_type": "code",
   "execution_count": null,
   "metadata": {
    "lines_to_next_cell": 2
   },
   "outputs": [],
   "source": []
  }
 ],
 "metadata": {
  "jupytext": {
   "text_representation": {
    "extension": ".py",
    "format_name": "light",
    "format_version": "1.5",
    "jupytext_version": "1.4.2"
   }
  },
  "kernelspec": {
   "display_name": "Python 3",
   "language": "python",
   "name": "python3"
  },
  "language_info": {
   "codemirror_mode": {
    "name": "ipython",
    "version": 3
   },
   "file_extension": ".py",
   "mimetype": "text/x-python",
   "name": "python",
   "nbconvert_exporter": "python",
   "pygments_lexer": "ipython3",
   "version": "3.7.6"
  }
 },
 "nbformat": 4,
 "nbformat_minor": 4
}
