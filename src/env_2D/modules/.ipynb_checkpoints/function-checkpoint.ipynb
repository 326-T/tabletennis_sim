{
 "cells": [
  {
   "cell_type": "code",
   "execution_count": 52,
   "metadata": {},
   "outputs": [],
   "source": [
    "import numpy as np\n",
    "import math"
   ]
  },
  {
   "cell_type": "code",
   "execution_count": 53,
   "metadata": {},
   "outputs": [],
   "source": [
    "def distance(x1, y1, x2, y2):\n",
    "    return np.sqrt((x1-x2)**2+(y1-y2)**2)"
   ]
  },
  {
   "cell_type": "code",
   "execution_count": 54,
   "metadata": {},
   "outputs": [],
   "source": [
    "def line_func(x1, y1, x2, y2):\n",
    "    a = y1-y2\n",
    "    b = -x1+x2\n",
    "    c = -(y1-y2)*x1+(x1-x2)*y1\n",
    "    def func(x,y):\n",
    "        return a*x+b*y+c\n",
    "    return a, b, c, func"
   ]
  },
  {
   "cell_type": "code",
   "execution_count": 55,
   "metadata": {},
   "outputs": [],
   "source": [
    "def line_intersection(a1, b1, c1, a2, b2, c2):\n",
    "    x = (-b2*c1+b1*c2)/(a1*b2-a2*b1)\n",
    "    y = (a2*c1-a1*c2)/(a1*b2-a2*b1)\n",
    "    return x, y"
   ]
  },
  {
   "cell_type": "code",
   "execution_count": 56,
   "metadata": {},
   "outputs": [],
   "source": [
    "def circle_intersection(x1,y1,r1,x2,y2,r2,d):\n",
    "    k = (r1**2-r2**2+d**2)/(2*d)\n",
    "    x = x1+(x2-x1)*k/d\n",
    "    y = y1+(y2-y1)*k/d\n",
    "    return x, y"
   ]
  },
  {
   "cell_type": "code",
   "execution_count": 57,
   "metadata": {},
   "outputs": [],
   "source": [
    "def polar2xy(r, theta, x=0, y=0):\n",
    "    return r*np.cos(theta)+x, r*np.sin(theta)+y"
   ]
  },
  {
   "cell_type": "code",
   "execution_count": 58,
   "metadata": {},
   "outputs": [],
   "source": [
    "def get_vertex(x, y, theta, w, h):\n",
    "    vtx1x = w/2*np.cos(theta) - h/2*np.sin(theta) + x\n",
    "    vtx1y = w/2*np.sin(theta) + h/2*np.cos(theta) + y\n",
    "    vtx2x = - w/2*np.cos(theta) - h/2*np.sin(theta) + x\n",
    "    vtx2y = - w/2*np.sin(theta) + h/2*np.cos(theta) + y\n",
    "    vtx3x = - w/2*np.cos(theta) + h/2*np.sin(theta) + x\n",
    "    vtx3y = - w/2*np.sin(theta) - h/2*np.cos(theta) + y\n",
    "    vtx4x = w/2*np.cos(theta) + h/2*np.sin(theta) + x\n",
    "    vtx4y = w/2*np.sin(theta) - h/2*np.cos(theta) + y\n",
    "    return [[vtx1x,vtx1y], [vtx2x,vtx2y], [vtx3x,vtx3y], [vtx4x,vtx4y]]"
   ]
  },
  {
   "cell_type": "code",
   "execution_count": null,
   "metadata": {},
   "outputs": [],
   "source": [
    "def get_outside_boxes(x, y, theta, w, h, r):\n",
    "    # 外接する長方形\n",
    "    vtx11x = w/2*np.cos(theta) - h/2*np.sin(theta) + x\n",
    "    vtx11y = w/2*np.sin(theta) + h/2*np.cos(theta) + y\n",
    "    vtx12x = - w/2*np.cos(theta) - h/2*np.sin(theta) + x\n",
    "    vtx12y = - w/2*np.sin(theta) + h/2*np.cos(theta) + y\n",
    "    \n",
    "    vtx13x = - w/2*np.cos(theta) - (h/2+r)*np.sin(theta) + x\n",
    "    vtx13y = - w/2*np.sin(theta) + (h/2+r)*np.cos(theta) + y\n",
    "    vtx14x = w/2*np.cos(theta) - (h/2+r)*np.sin(theta) + x\n",
    "    vtx14y = w/2*np.sin(theta) + (h/2+r)*np.cos(theta) + y\n",
    "    \n",
    "    \n",
    "    vtx21x = - w/2*np.cos(theta) - h/2*np.sin(theta) + x\n",
    "    vtx21y = - w/2*np.sin(theta) + h/2*np.cos(theta) + y\n",
    "    vtx22x = - w/2*np.cos(theta) + h/2*np.sin(theta) + x\n",
    "    vtx22y = - w/2*np.sin(theta) - h/2*np.cos(theta) + y\n",
    "    \n",
    "    vtx23x = - (w/2+r)*np.cos(theta) + h/2*np.sin(theta) + x\n",
    "    vtx23y = - (w/2+r)*np.sin(theta) - h/2*np.cos(theta) + y\n",
    "    vtx24x = - (w/2+r)*np.cos(theta) - h/2*np.sin(theta) + x\n",
    "    vtx24y = - (w/2+r)*np.sin(theta) + h/2*np.cos(theta) + y\n",
    "    \n",
    "    \n",
    "    vtx31x = - w/2*np.cos(theta) + h/2*np.sin(theta) + x\n",
    "    vtx31y = - w/2*np.sin(theta) - h/2*np.cos(theta) + y\n",
    "    vtx32x = w/2*np.cos(theta) + h/2*np.sin(theta) + x\n",
    "    vtx32y = w/2*np.sin(theta) - h/2*np.cos(theta) + y\n",
    "    \n",
    "    vtx33x = w/2*np.cos(theta) + (h/2+r)*np.sin(theta) + x\n",
    "    vtx33y = w/2*np.sin(theta) - (h/2+r)*np.cos(theta) + y\n",
    "    vtx34x = - w/2*np.cos(theta) + (h/2+r)*np.sin(theta) + x\n",
    "    vtx34y = - w/2*np.sin(theta) - (h/2+r)*np.cos(theta) + y\n",
    "    \n",
    "    \n",
    "    vtx41x = w/2*np.cos(theta) + h/2*np.sin(theta) + x\n",
    "    vtx41y = w/2*np.sin(theta) - h/2*np.cos(theta) + y\n",
    "    vtx42x = w/2*np.cos(theta) - h/2*np.sin(theta) + x\n",
    "    vtx42y = w/2*np.sin(theta) + h/2*np.cos(theta) + y\n",
    "    \n",
    "    vtx43x = (w/2+r)*np.cos(theta) - h/2*np.sin(theta) + x\n",
    "    vtx43y = (w/2+r)*np.sin(theta) + h/2*np.cos(theta) + y\n",
    "    vtx44x = (w/2+r)*np.cos(theta) + h/2*np.sin(theta) + x\n",
    "    vtx44y = (w/2+r)*np.sin(theta) - h/2*np.cos(theta) + y\n",
    "    \n",
    "    return get_vertex(x,y,theta,w,h), [[[vtx11x,vtx11y], [vtx12x,vtx12y], [vtx13x,vtx13y], [vtx14x,vtx14y]],\n",
    "                                       [[vtx21x,vtx21y], [vtx22x,vtx22y], [vtx23x,vtx23y], [vtx24x,vtx24y]],\n",
    "                                       [[vtx31x,vtx31y], [vtx32x,vtx32y], [vtx33x,vtx33y], [vtx34x,vtx34y]],\n",
    "                                       [[vtx41x,vtx41y], [vtx42x,vtx42y], [vtx43x,vtx43y], [vtx44x,vtx44y]]]"
   ]
  },
  {
   "cell_type": "code",
   "execution_count": 59,
   "metadata": {},
   "outputs": [],
   "source": [
    "def is_in_box(x, y, box_vertex):\n",
    "    a1, b1, c1, line1 = line_func(box_vertex[0][0],box_vertex[0][1],box_vertex[1][0],box_vertex[1][1])\n",
    "    a2, b2, c2, line2 = line_func(box_vertex[1][0],box_vertex[1][1],box_vertex[2][0],box_vertex[2][1])\n",
    "    a3, b3, c3, line3 = line_func(box_vertex[2][0],box_vertex[2][1],box_vertex[3][0],box_vertex[3][1])\n",
    "    a4, b4, c4, line4 = line_func(box_vertex[3][0],box_vertex[3][1],box_vertex[0][0],box_vertex[0][1])\n",
    "    a = [a1, a2, a3, a4]\n",
    "    b = [b1, b2, b3, b4]\n",
    "    c = [c1, c2, c3, c4]\n",
    "    line = [line1, line2, line3, line4]\n",
    "    if line1(x,y)*line3(x,y) > 0 and line2(x,y)*line4(x,y) > 0:\n",
    "        return True\n",
    "    else:\n",
    "        return False"
   ]
  },
  {
   "cell_type": "code",
   "execution_count": 60,
   "metadata": {},
   "outputs": [
    {
     "data": {
      "text/plain": [
       "True"
      ]
     },
     "execution_count": 60,
     "metadata": {},
     "output_type": "execute_result"
    }
   ],
   "source": [
    "box=[[2,2],[-2,1],[-1,-3],[3,-2]]\n",
    "is_in_box(-1,-2,box)"
   ]
  },
  {
   "cell_type": "code",
   "execution_count": 61,
   "metadata": {},
   "outputs": [
    {
     "data": {
      "text/plain": [
       "(2.0, 1.0)"
      ]
     },
     "execution_count": 61,
     "metadata": {},
     "output_type": "execute_result"
    }
   ],
   "source": [
    "line_intersection(1,-1,-1,1,2,-4)"
   ]
  },
  {
   "cell_type": "code",
   "execution_count": 62,
   "metadata": {},
   "outputs": [
    {
     "data": {
      "text/plain": [
       "(2.0, 1.0)"
      ]
     },
     "execution_count": 62,
     "metadata": {},
     "output_type": "execute_result"
    }
   ],
   "source": [
    "line_intersection(1,2,-4,1,-1,-1)"
   ]
  },
  {
   "cell_type": "code",
   "execution_count": 63,
   "metadata": {},
   "outputs": [
    {
     "data": {
      "text/plain": [
       "(2.5, 1.5)"
      ]
     },
     "execution_count": 63,
     "metadata": {},
     "output_type": "execute_result"
    }
   ],
   "source": [
    "a1=1\n",
    "b1=-1\n",
    "c1=-1\n",
    "x2=2\n",
    "y2=2\n",
    "line_intersection(a1, b1, c1, b1, -a1, -b1*x2+a1*y2)"
   ]
  },
  {
   "cell_type": "code",
   "execution_count": 64,
   "metadata": {},
   "outputs": [
    {
     "data": {
      "text/plain": [
       "(2.0, -0.0)"
      ]
     },
     "execution_count": 64,
     "metadata": {},
     "output_type": "execute_result"
    }
   ],
   "source": [
    "a1=0\n",
    "b1=1\n",
    "c1=0\n",
    "x2=2\n",
    "y2=2\n",
    "line_intersection(a1, b1, c1, b1, -a1, -b1*x2+a1*y2)"
   ]
  },
  {
   "cell_type": "code",
   "execution_count": 65,
   "metadata": {},
   "outputs": [],
   "source": [
    "_,_,_,a=line_func(1,-1,2,2)"
   ]
  },
  {
   "cell_type": "code",
   "execution_count": 66,
   "metadata": {},
   "outputs": [
    {
     "data": {
      "text/plain": [
       "0"
      ]
     },
     "execution_count": 66,
     "metadata": {},
     "output_type": "execute_result"
    }
   ],
   "source": [
    "a(1,-1)"
   ]
  },
  {
   "cell_type": "code",
   "execution_count": 68,
   "metadata": {},
   "outputs": [
    {
     "data": {
      "text/plain": [
       "[[2.0, 3.414213562373095],\n",
       " [0.5857864376269051, 2.0],\n",
       " [2.0, 0.5857864376269051],\n",
       " [3.414213562373095, 2.0]]"
      ]
     },
     "execution_count": 68,
     "metadata": {},
     "output_type": "execute_result"
    }
   ],
   "source": [
    "get_vertex(2,2,np.pi/4,2,2)"
   ]
  },
  {
   "cell_type": "code",
   "execution_count": null,
   "metadata": {},
   "outputs": [],
   "source": []
  }
 ],
 "metadata": {
  "jupytext": {
   "text_representation": {
    "extension": ".py",
    "format_name": "light",
    "format_version": "1.5",
    "jupytext_version": "1.4.2"
   }
  },
  "kernelspec": {
   "display_name": "Python 3",
   "language": "python",
   "name": "python3"
  },
  "language_info": {
   "codemirror_mode": {
    "name": "ipython",
    "version": 3
   },
   "file_extension": ".py",
   "mimetype": "text/x-python",
   "name": "python",
   "nbconvert_exporter": "python",
   "pygments_lexer": "ipython3",
   "version": "3.7.6"
  }
 },
 "nbformat": 4,
 "nbformat_minor": 4
}
