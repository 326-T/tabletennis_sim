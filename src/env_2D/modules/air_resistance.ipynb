{
 "cells": [
  {
   "cell_type": "code",
   "execution_count": 1,
   "metadata": {},
   "outputs": [],
   "source": [
    "import numpy as np"
   ]
  },
  {
   "cell_type": "code",
   "execution_count": 2,
   "metadata": {},
   "outputs": [],
   "source": [
    "class Air_resistance_ball:\n",
    "    def __init__(self, obj, Cd=0.54, Cm=0.069, po=1.184):\n",
    "        self.obj = obj\n",
    "        self.Cd = Cd\n",
    "        self.Cm = Cm\n",
    "        self.po = po\n",
    "        self.A = np.pi*self.obj.r**2\n",
    "        self.coef = 1.0/2.0*self.Cd*self.po*self.A\n",
    "        self.drag = 4.0/3.0*self.Cm*np.pi*self.po*self.obj.r**3\n",
    "        \n",
    "    def step(self):\n",
    "        v = np.sqrt(self.obj.v_x**2+self.obj.v_y**2)\n",
    "        Rx = -self.coef*v*self.obj.v_x-self.drag*self.obj.v_theta*self.obj.v_y\n",
    "        Ry = -self.coef*v*self.obj.v_y+self.drag*self.obj.v_theta*self.obj.v_x\n",
    "        self.obj.add_force(Rx, Ry, 0)"
   ]
  }
 ],
 "metadata": {
  "jupytext": {
   "text_representation": {
    "extension": ".py",
    "format_name": "light",
    "format_version": "1.5",
    "jupytext_version": "1.4.2"
   }
  },
  "kernelspec": {
   "display_name": "Python 3",
   "language": "python",
   "name": "python3"
  },
  "language_info": {
   "codemirror_mode": {
    "name": "ipython",
    "version": 3
   },
   "file_extension": ".py",
   "mimetype": "text/x-python",
   "name": "python",
   "nbconvert_exporter": "python",
   "pygments_lexer": "ipython3",
   "version": "3.7.6"
  }
 },
 "nbformat": 4,
 "nbformat_minor": 4
}
